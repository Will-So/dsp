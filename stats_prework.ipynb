{
 "cells": [
  {
   "cell_type": "markdown",
   "metadata": {},
   "source": [
    "# Used variables"
   ]
  },
  {
   "cell_type": "markdown",
   "metadata": {},
   "source": [
    "- caseid\n",
    "- prglngth is the length of pregnancy\n",
    "- outcome. 1 is a live birth\n",
    "- pregordr first is 1 second is 2 etc\n",
    "- birthord: serial number for live births\n",
    "- agepreg mothes age\n",
    "- birthwgt_lb and birthwgt_oz contain the pounds and ounces part of the birth weight\n",
    "- finalwgt statistical weight assocaited with the respondent."
   ]
  },
  {
   "cell_type": "markdown",
   "metadata": {
    "collapsed": false
   },
   "source": [
    "# Problem 2.4"
   ]
  },
  {
   "cell_type": "code",
   "execution_count": 5,
   "metadata": {
    "collapsed": true
   },
   "outputs": [],
   "source": [
    "import pandas as pd"
   ]
  },
  {
   "cell_type": "code",
   "execution_count": 1,
   "metadata": {
    "collapsed": false,
    "scrolled": true
   },
   "outputs": [
    {
     "name": "stderr",
     "output_type": "stream",
     "text": [
      "/Users/Will/Devel/dsp/ThinkStats2/code/nsfg.py:42: SettingWithCopyWarning: \n",
      "A value is trying to be set on a copy of a slice from a DataFrame\n",
      "\n",
      "See the the caveats in the documentation: http://pandas.pydata.org/pandas-docs/stable/indexing.html#indexing-view-versus-copy\n",
      "  df.birthwgt_lb[df.birthwgt_lb > 20] = np.nan\n"
     ]
    }
   ],
   "source": [
    "import nsfg\n",
    "import math\n",
    "df = nsfg.ReadFemPreg()\n",
    "\n",
    "def CohenEffectSize(group1, group2):\n",
    "    diff = group1.mean() - group2.mean()\n",
    "\n",
    "    var1 = group1.var()\n",
    "    var2 = group2.var()\n",
    "    n1, n2 = len(group1), len(group2)\n",
    "\n",
    "    pooled_var = (n1 * var1 + n2 * var2) / (n1 + n2)\n",
    "    d = diff / math.sqrt(pooled_var)\n",
    "    return d"
   ]
  },
  {
   "cell_type": "code",
   "execution_count": 2,
   "metadata": {
    "collapsed": false
   },
   "outputs": [],
   "source": [
    "df['totalwgt_lb'] = df.birthwgt_lb + df.birthwgt_oz / 16"
   ]
  },
  {
   "cell_type": "code",
   "execution_count": 3,
   "metadata": {
    "collapsed": false
   },
   "outputs": [
    {
     "data": {
      "text/plain": [
       "9038"
      ]
     },
     "execution_count": 3,
     "metadata": {},
     "output_type": "execute_result"
    }
   ],
   "source": [
    "len(df.totalwgt_lb)\n",
    "df.totalwgt_lb.count()"
   ]
  },
  {
   "cell_type": "code",
   "execution_count": 163,
   "metadata": {
    "collapsed": false
   },
   "outputs": [
    {
     "data": {
      "text/plain": [
       "1131"
      ]
     },
     "execution_count": 163,
     "metadata": {},
     "output_type": "execute_result"
    }
   ],
   "source": [
    "df.ageatend.count()"
   ]
  },
  {
   "cell_type": "code",
   "execution_count": 164,
   "metadata": {
    "collapsed": false
   },
   "outputs": [
    {
     "data": {
      "text/plain": [
       "13593"
      ]
     },
     "execution_count": 164,
     "metadata": {},
     "output_type": "execute_result"
    }
   ],
   "source": [
    "df.agecon.count()"
   ]
  },
  {
   "cell_type": "code",
   "execution_count": null,
   "metadata": {
    "collapsed": true
   },
   "outputs": [],
   "source": []
  },
  {
   "cell_type": "code",
   "execution_count": 148,
   "metadata": {
    "collapsed": false
   },
   "outputs": [
    {
     "data": {
      "text/plain": [
       "(0         8\n",
       " 1         7\n",
       " 2         9\n",
       " 3         7\n",
       " 4         6\n",
       " 5         8\n",
       " 6         9\n",
       " 7         8\n",
       " 8         7\n",
       " 9         6\n",
       " 10        7\n",
       " 11        7\n",
       " 12        4\n",
       " 13      NaN\n",
       " 14      NaN\n",
       " 15        7\n",
       " 16        7\n",
       " 17        6\n",
       " 18      NaN\n",
       " 19        8\n",
       " 20        8\n",
       " 21        5\n",
       " 22      NaN\n",
       " 23        6\n",
       " 24        7\n",
       " 25        6\n",
       " 26        8\n",
       " 27        7\n",
       " 28        6\n",
       " 29        7\n",
       "          ..\n",
       " 13563     7\n",
       " 13564     7\n",
       " 13565     8\n",
       " 13566     7\n",
       " 13567   NaN\n",
       " 13568   NaN\n",
       " 13569     5\n",
       " 13570     6\n",
       " 13571     6\n",
       " 13572     5\n",
       " 13573     6\n",
       " 13574     6\n",
       " 13575   NaN\n",
       " 13576     6\n",
       " 13577   NaN\n",
       " 13578     6\n",
       " 13579     7\n",
       " 13580   NaN\n",
       " 13581     6\n",
       " 13582   NaN\n",
       " 13583   NaN\n",
       " 13584     6\n",
       " 13585   NaN\n",
       " 13586   NaN\n",
       " 13587   NaN\n",
       " 13588     6\n",
       " 13589   NaN\n",
       " 13590   NaN\n",
       " 13591     7\n",
       " 13592     7\n",
       " Name: birthwgt_lb, dtype: float64, 0        13\n",
       " 1        14\n",
       " 2         2\n",
       " 3         0\n",
       " 4         3\n",
       " 5         9\n",
       " 6         9\n",
       " 7         6\n",
       " 8         9\n",
       " 9        10\n",
       " 10       13\n",
       " 11        0\n",
       " 12        0\n",
       " 13      NaN\n",
       " 14      NaN\n",
       " 15       11\n",
       " 16        8\n",
       " 17        5\n",
       " 18      NaN\n",
       " 19       12\n",
       " 20        3\n",
       " 21        9\n",
       " 22      NaN\n",
       " 23       12\n",
       " 24        6\n",
       " 25       13\n",
       " 26        2\n",
       " 27        2\n",
       " 28        1\n",
       " 29        7\n",
       "          ..\n",
       " 13563    11\n",
       " 13564    10\n",
       " 13565     2\n",
       " 13566     8\n",
       " 13567   NaN\n",
       " 13568   NaN\n",
       " 13569    13\n",
       " 13570    11\n",
       " 13571     0\n",
       " 13572    13\n",
       " 13573     9\n",
       " 13574     2\n",
       " 13575   NaN\n",
       " 13576     7\n",
       " 13577   NaN\n",
       " 13578     0\n",
       " 13579     0\n",
       " 13580   NaN\n",
       " 13581     6\n",
       " 13582   NaN\n",
       " 13583   NaN\n",
       " 13584     6\n",
       " 13585   NaN\n",
       " 13586   NaN\n",
       " 13587   NaN\n",
       " 13588     3\n",
       " 13589   NaN\n",
       " 13590   NaN\n",
       " 13591     8\n",
       " 13592     8\n",
       " Name: birthwgt_oz, dtype: float64)"
      ]
     },
     "execution_count": 148,
     "metadata": {},
     "output_type": "execute_result"
    }
   ],
   "source": [
    "df.birthwgt_lb, df.birthwgt_oz"
   ]
  },
  {
   "cell_type": "code",
   "execution_count": 141,
   "metadata": {
    "collapsed": false
   },
   "outputs": [
    {
     "data": {
      "text/plain": [
       "13      NaN\n",
       "22      NaN\n",
       "45      NaN\n",
       "46      NaN\n",
       "57      NaN\n",
       "84      NaN\n",
       "85      NaN\n",
       "86      NaN\n",
       "93      NaN\n",
       "103     NaN\n",
       "109     NaN\n",
       "111     NaN\n",
       "112     NaN\n",
       "128     NaN\n",
       "152     NaN\n",
       "153     NaN\n",
       "194     NaN\n",
       "195     NaN\n",
       "196     NaN\n",
       "197     NaN\n",
       "198     NaN\n",
       "199     NaN\n",
       "200     NaN\n",
       "201     NaN\n",
       "221     NaN\n",
       "254     NaN\n",
       "255     NaN\n",
       "257     NaN\n",
       "292     NaN\n",
       "296     NaN\n",
       "         ..\n",
       "13278   NaN\n",
       "13285   NaN\n",
       "13286   NaN\n",
       "13305   NaN\n",
       "13310   NaN\n",
       "13329   NaN\n",
       "13330   NaN\n",
       "13331   NaN\n",
       "13343   NaN\n",
       "13364   NaN\n",
       "13372   NaN\n",
       "13374   NaN\n",
       "13383   NaN\n",
       "13385   NaN\n",
       "13386   NaN\n",
       "13409   NaN\n",
       "13428   NaN\n",
       "13429   NaN\n",
       "13526   NaN\n",
       "13534   NaN\n",
       "13535   NaN\n",
       "13536   NaN\n",
       "13541   NaN\n",
       "13542   NaN\n",
       "13575   NaN\n",
       "13585   NaN\n",
       "13586   NaN\n",
       "13587   NaN\n",
       "13589   NaN\n",
       "13590   NaN\n",
       "Name: totalwgt_lb, dtype: float64"
      ]
     },
     "execution_count": 141,
     "metadata": {},
     "output_type": "execute_result"
    }
   ],
   "source": [
    "df.totalwgt_lb"
   ]
  },
  {
   "cell_type": "code",
   "execution_count": 29,
   "metadata": {
    "collapsed": false
   },
   "outputs": [
    {
     "data": {
      "text/plain": [
       "-0.069118253488209561"
      ]
     },
     "execution_count": 29,
     "metadata": {},
     "output_type": "execute_result"
    }
   ],
   "source": [
    "first_births = df[df.pregordr == 1]\n",
    "later_births = df[df.pregordr != 1]\n",
    "\n",
    "CohenEffectSize(first_births.totalwgt_lb, later_births.totalwgt_lb)"
   ]
  },
  {
   "cell_type": "markdown",
   "metadata": {},
   "source": [
    "The difference in weights between the two values is not statistically significant."
   ]
  },
  {
   "cell_type": "markdown",
   "metadata": {},
   "source": [
    "# Problem 3.1"
   ]
  },
  {
   "cell_type": "code",
   "execution_count": 36,
   "metadata": {
    "collapsed": false,
    "scrolled": true
   },
   "outputs": [
    {
     "ename": "AttributeError",
     "evalue": "'DataFrame' object has no attribute 'NUMKDHH'",
     "output_type": "error",
     "traceback": [
      "\u001b[0;31m---------------------------------------------------------------------------\u001b[0m",
      "\u001b[0;31mAttributeError\u001b[0m                            Traceback (most recent call last)",
      "\u001b[0;32m<ipython-input-36-8e40098c3834>\u001b[0m in \u001b[0;36m<module>\u001b[0;34m()\u001b[0m\n\u001b[1;32m      3\u001b[0m \u001b[0;32mimport\u001b[0m \u001b[0mchap01soln\u001b[0m\u001b[0;34m\u001b[0m\u001b[0m\n\u001b[1;32m      4\u001b[0m \u001b[0mresp\u001b[0m \u001b[0;34m=\u001b[0m \u001b[0mchap01soln\u001b[0m\u001b[0;34m.\u001b[0m\u001b[0mReadFemResp\u001b[0m\u001b[0;34m(\u001b[0m\u001b[0;34m)\u001b[0m\u001b[0;34m\u001b[0m\u001b[0m\n\u001b[0;32m----> 5\u001b[0;31m \u001b[0mdf\u001b[0m\u001b[0;34m.\u001b[0m\u001b[0mNUMKDHH\u001b[0m\u001b[0;34m.\u001b[0m\u001b[0mhist\u001b[0m\u001b[0;34m(\u001b[0m\u001b[0;34m)\u001b[0m\u001b[0;34m\u001b[0m\u001b[0m\n\u001b[0m",
      "\u001b[0;32m/Users/Will/anaconda/envs/py34/lib/python3.4/site-packages/pandas/core/generic.py\u001b[0m in \u001b[0;36m__getattr__\u001b[0;34m(self, name)\u001b[0m\n\u001b[1;32m   2148\u001b[0m                 \u001b[0;32mreturn\u001b[0m \u001b[0mself\u001b[0m\u001b[0;34m[\u001b[0m\u001b[0mname\u001b[0m\u001b[0;34m]\u001b[0m\u001b[0;34m\u001b[0m\u001b[0m\n\u001b[1;32m   2149\u001b[0m             raise AttributeError(\"'%s' object has no attribute '%s'\" %\n\u001b[0;32m-> 2150\u001b[0;31m                                  (type(self).__name__, name))\n\u001b[0m\u001b[1;32m   2151\u001b[0m \u001b[0;34m\u001b[0m\u001b[0m\n\u001b[1;32m   2152\u001b[0m     \u001b[0;32mdef\u001b[0m \u001b[0m__setattr__\u001b[0m\u001b[0;34m(\u001b[0m\u001b[0mself\u001b[0m\u001b[0;34m,\u001b[0m \u001b[0mname\u001b[0m\u001b[0;34m,\u001b[0m \u001b[0mvalue\u001b[0m\u001b[0;34m)\u001b[0m\u001b[0;34m:\u001b[0m\u001b[0;34m\u001b[0m\u001b[0m\n",
      "\u001b[0;31mAttributeError\u001b[0m: 'DataFrame' object has no attribute 'NUMKDHH'"
     ]
    }
   ],
   "source": [
    "%matplotlib inline\n",
    "\n",
    "import chap01soln\n",
    "resp = chap01soln.ReadFemResp()\n"
   ]
  },
  {
   "cell_type": "code",
   "execution_count": 44,
   "metadata": {
    "collapsed": false
   },
   "outputs": [
    {
     "data": {
      "text/plain": [
       "<matplotlib.axes._subplots.AxesSubplot at 0x10bdb4e48>"
      ]
     },
     "execution_count": 44,
     "metadata": {},
     "output_type": "execute_result"
    },
    {
     "data": {
      "image/png": "[encoded data removed]",
      "text/plain": [
       "<matplotlib.figure.Figure at 0x10bf9af98>"
      ]
     },
     "metadata": {},
     "output_type": "display_data"
    }
   ],
   "source": [
    "resp.numkdhh.plot(kind='hist',normed=True)"
   ]
  },
  {
   "cell_type": "markdown",
   "metadata": {},
   "source": [
    "Class size paradox is that more people are in large classes than in small classes. So it is with large families. "
   ]
  },
  {
   "cell_type": "code",
   "execution_count": 63,
   "metadata": {
    "collapsed": true
   },
   "outputs": [],
   "source": [
    "def biased_pmf(pmf, label='biased'):\n",
    "    new_pmf = pmf.Copy(label='biased')\n",
    "    \n",
    "    for x, p in pmf.Items():\n",
    "        new_pmf.Mult(x, x)\n",
    "        \n",
    "    new_pmf.Normalize()\n",
    "    return new_pmf\n",
    "    \n"
   ]
  },
  {
   "cell_type": "code",
   "execution_count": 66,
   "metadata": {
    "collapsed": false
   },
   "outputs": [],
   "source": [
    "import thinkplot, thinkstats2\n",
    "pmf = thinkstats2.Pmf(resp.numkdhh)\n",
    "biased = biased_pmf(pmf)"
   ]
  },
  {
   "cell_type": "code",
   "execution_count": 70,
   "metadata": {
    "collapsed": false
   },
   "outputs": [
    {
     "data": {
      "image/png": "[encoded data removed]",
      "text/plain": [
       "<matplotlib.figure.Figure at 0x11849a898>"
      ]
     },
     "metadata": {},
     "output_type": "display_data"
    }
   ],
   "source": [
    "thinkplot.Pmfs([biased, pmf])"
   ]
  },
  {
   "cell_type": "markdown",
   "metadata": {},
   "source": [
    "Purple is biased in this case. We can see that it is much more biased than the other things are. "
   ]
  },
  {
   "cell_type": "code",
   "execution_count": 72,
   "metadata": {
    "collapsed": false
   },
   "outputs": [
    {
     "data": {
      "text/plain": [
       "(2.4036791006642821, 1.0242051550438309)"
      ]
     },
     "execution_count": 72,
     "metadata": {},
     "output_type": "execute_result"
    }
   ],
   "source": [
    "biased.Mean(), pmf.Mean()"
   ]
  },
  {
   "cell_type": "markdown",
   "metadata": {},
   "source": [
    "# Problem 4.2"
   ]
  },
  {
   "cell_type": "code",
   "execution_count": 9,
   "metadata": {
    "collapsed": false
   },
   "outputs": [
    {
     "name": "stdout",
     "output_type": "stream",
     "text": [
      "Populating the interactive namespace from numpy and matplotlib\n"
     ]
    }
   ],
   "source": [
    "%pylab inline\n",
    "import numpy as np\n",
    "samples = np.random.random(1000)"
   ]
  },
  {
   "cell_type": "code",
   "execution_count": 10,
   "metadata": {
    "collapsed": false
   },
   "outputs": [],
   "source": [
    "import seaborn as sns"
   ]
  },
  {
   "cell_type": "code",
   "execution_count": 94,
   "metadata": {
    "collapsed": false
   },
   "outputs": [
    {
     "data": {
      "image/png": "[encoded data removed]",
      "text/plain": [
       "<matplotlib.figure.Figure at 0x114cc2cc0>"
      ]
     },
     "metadata": {},
     "output_type": "display_data"
    }
   ],
   "source": [
    "sns.distplot(samples);"
   ]
  },
  {
   "cell_type": "code",
   "execution_count": 93,
   "metadata": {
    "collapsed": false
   },
   "outputs": [
    {
     "data": {
      "image/png": "[encoded data removed]",
      "text/plain": [
       "<matplotlib.figure.Figure at 0x114b936a0>"
      ]
     },
     "metadata": {},
     "output_type": "display_data"
    }
   ],
   "source": [
    "hist(samples, 5e5, cumulative=True, histtype='step');"
   ]
  },
  {
   "cell_type": "markdown",
   "metadata": {},
   "source": [
    "# Problem 5.1"
   ]
  },
  {
   "cell_type": "code",
   "execution_count": 99,
   "metadata": {
    "collapsed": false
   },
   "outputs": [
    {
     "data": {
      "text/plain": [
       "0.31834892955655103"
      ]
     },
     "execution_count": 99,
     "metadata": {},
     "output_type": "execute_result"
    }
   ],
   "source": [
    "import scipy.stats\n",
    "mu = 178\n",
    "sd = 7.7\n",
    "height_dist = scipy.stats.norm(loc=mu, scale=sd)\n",
    "\n",
    "height_dist.cdf(185) - height_dist.cdf(178) "
   ]
  },
  {
   "cell_type": "markdown",
   "metadata": {},
   "source": [
    "So 32% of the population can be in the Blue man group"
   ]
  },
  {
   "cell_type": "markdown",
   "metadata": {},
   "source": [
    "# Problem 7.1"
   ]
  },
  {
   "cell_type": "markdown",
   "metadata": {},
   "source": [
    "Problem: It does not seem like there is much of an overlap between those things. The input for the age on conception is always there so I will use that instead. "
   ]
  },
  {
   "cell_type": "code",
   "execution_count": 117,
   "metadata": {
    "collapsed": false,
    "scrolled": true
   },
   "outputs": [
    {
     "data": {
      "text/plain": [
       "25.935455349248453"
      ]
     },
     "execution_count": 117,
     "metadata": {},
     "output_type": "execute_result"
    }
   ],
   "source": [
    "df.ageatend.mean()"
   ]
  },
  {
   "cell_type": "code",
   "execution_count": 155,
   "metadata": {
    "collapsed": false
   },
   "outputs": [
    {
     "data": {
      "text/plain": [
       "nan"
      ]
     },
     "execution_count": 155,
     "metadata": {},
     "output_type": "execute_result"
    }
   ],
   "source": [
    "sum(df.totalwgt_lb)"
   ]
  },
  {
   "cell_type": "code",
   "execution_count": 6,
   "metadata": {
    "collapsed": false,
    "scrolled": false
   },
   "outputs": [],
   "source": [
    "df = df[pd.notnull(df.totalwgt_lb)]\n",
    "df = df[pd.notnull(df.agecon)]"
   ]
  },
  {
   "cell_type": "code",
   "execution_count": 7,
   "metadata": {
    "collapsed": false
   },
   "outputs": [
    {
     "data": {
      "text/plain": [
       "9038"
      ]
     },
     "execution_count": 7,
     "metadata": {},
     "output_type": "execute_result"
    }
   ],
   "source": [
    "len(df)"
   ]
  },
  {
   "cell_type": "code",
   "execution_count": 13,
   "metadata": {
    "collapsed": false
   },
   "outputs": [
    {
     "data": {
      "text/html": [
       "<div>\n",
       "<table border=\"1\" class=\"dataframe\">\n",
       "  <thead>\n",
       "    <tr style=\"text-align: right;\">\n",
       "      <th></th>\n",
       "      <th>agecon</th>\n",
       "      <th>totalwgt_lb</th>\n",
       "    </tr>\n",
       "  </thead>\n",
       "  <tbody>\n",
       "    <tr>\n",
       "      <th>agecon</th>\n",
       "      <td>1.000000</td>\n",
       "      <td>0.064324</td>\n",
       "    </tr>\n",
       "    <tr>\n",
       "      <th>totalwgt_lb</th>\n",
       "      <td>0.064324</td>\n",
       "      <td>1.000000</td>\n",
       "    </tr>\n",
       "  </tbody>\n",
       "</table>\n",
       "</div>"
      ],
      "text/plain": [
       "               agecon  totalwgt_lb\n",
       "agecon       1.000000     0.064324\n",
       "totalwgt_lb  0.064324     1.000000"
      ]
     },
     "execution_count": 13,
     "metadata": {},
     "output_type": "execute_result"
    }
   ],
   "source": [
    "df[['agecon', 'totalwgt_lb']].corr()"
   ]
  },
  {
   "cell_type": "code",
   "execution_count": 12,
   "metadata": {
    "collapsed": false,
    "scrolled": true
   },
   "outputs": [
    {
     "data": {
      "text/plain": [
       "<matplotlib.axes._subplots.AxesSubplot at 0x10e57cd30>"
      ]
     },
     "execution_count": 12,
     "metadata": {},
     "output_type": "execute_result"
    },
    {
     "data": {
      "image/png": "[encoded data removed]",
      "text/plain": [
       "<matplotlib.figure.Figure at 0x10e57c550>"
      ]
     },
     "metadata": {},
     "output_type": "display_data"
    }
   ],
   "source": [
    "sns.regplot(x='agecon', y='totalwgt_lb', data=df)"
   ]
  },
  {
   "cell_type": "markdown",
   "metadata": {},
   "source": [
    "So the correlation is quite weak here. "
   ]
  },
  {
   "cell_type": "markdown",
   "metadata": {},
   "source": [
    "# Problem 8.2"
   ]
  },
  {
   "cell_type": "code",
   "execution_count": 101,
   "metadata": {
    "collapsed": false
   },
   "outputs": [],
   "source": [
    "samples = np.random.exponential(2, 1000)"
   ]
  },
  {
   "cell_type": "code",
   "execution_count": 110,
   "metadata": {
    "collapsed": false
   },
   "outputs": [],
   "source": [
    "std_error = samples.std() / math.sqrt(len(samples))"
   ]
  },
  {
   "cell_type": "code",
   "execution_count": 114,
   "metadata": {
    "collapsed": false
   },
   "outputs": [
    {
     "data": {
      "text/plain": [
       "(1.9766928653610836, 2.1010333493701316)"
      ]
     },
     "execution_count": 114,
     "metadata": {},
     "output_type": "execute_result"
    }
   ],
   "source": [
    "samples.mean() - std_error, samples.mean() + std_error \n",
    "#This isn't exactly correct because 90% isn't exactly one standard error but it is close"
   ]
  },
  {
   "cell_type": "markdown",
   "metadata": {},
   "source": [
    "# Q7"
   ]
  },
  {
   "cell_type": "markdown",
   "metadata": {},
   "source": [
    ">Bayes' Theorem is an important tool in understanding what we really know, given evidence of other information we have, in a quantitative way.  It helps incorporate conditional probabilities into our conclusions.\n",
    "\n",
    ">Elvis Presley had a twin brother who died at birth.  What is the probability that Elvis was an identical twin? Assume we observe the following probabilities in the population: fraternal twin is 1/125 and identical twin is 1/300.  "
   ]
  },
  {
   "cell_type": "markdown",
   "metadata": {},
   "source": [
    "This is easy to solve without directly invoking Bayes' theorem. The total odds of being a twin is $1/425$. The probability is thus given by $125/425$ so we have 29.4%. The Bayes' theorem equation looks like this\n",
    "\n",
    "$$P(Identical \\mid Twin) = \\frac{P(Identical) * P(Twin \\mid Identical)}{   P(Twin)}$$\n",
    "\n",
    "$$ = \\frac{1/125}{1/425}$$"
   ]
  },
  {
   "cell_type": "markdown",
   "metadata": {},
   "source": [
    "# Q8"
   ]
  },
  {
   "cell_type": "markdown",
   "metadata": {},
   "source": [
    ">How do frequentist and Bayesian statistics compare?\n",
    "\n"
   ]
  },
  {
   "cell_type": "markdown",
   "metadata": {
    "collapsed": true
   },
   "source": [
    "For me the key difference is that Bayesian statistics makes the assumptions we take clear and considers the evidence directly. Also in Bayesian statistics, the probability of an event can be continiously upadated. It is also more compatible with the scientitic method because we start out making our as"
   ]
  }
 ],
 "metadata": {
  "kernelspec": {
   "display_name": "Python 3",
   "language": "python",
   "name": "python3"
  },
  "language_info": {
   "codemirror_mode": {
    "name": "ipython",
    "version": 3
   },
   "file_extension": ".py",
   "mimetype": "text/x-python",
   "name": "python",
   "nbconvert_exporter": "python",
   "pygments_lexer": "ipython3",
   "version": "3.4.3"
  }
 },
 "nbformat": 4,
 "nbformat_minor": 0
}
